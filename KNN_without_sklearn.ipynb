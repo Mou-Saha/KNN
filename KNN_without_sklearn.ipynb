{
 "cells": [
  {
   "cell_type": "code",
   "execution_count": 496,
   "id": "cf098d2d",
   "metadata": {},
   "outputs": [],
   "source": [
    "import numpy as np\n",
    "import  pandas as pd\n",
    "import matplotlib.pyplot as plt"
   ]
  },
  {
   "cell_type": "code",
   "execution_count": 497,
   "id": "d3dd83f5",
   "metadata": {},
   "outputs": [],
   "source": [
    "data= pd.read_excel(\"assignment6.xlsx\",sheet_name=\"Sheet1\")"
   ]
  },
  {
   "cell_type": "code",
   "execution_count": 498,
   "id": "346421a3",
   "metadata": {},
   "outputs": [
    {
     "data": {
      "text/html": [
       "<div>\n",
       "<style scoped>\n",
       "    .dataframe tbody tr th:only-of-type {\n",
       "        vertical-align: middle;\n",
       "    }\n",
       "\n",
       "    .dataframe tbody tr th {\n",
       "        vertical-align: top;\n",
       "    }\n",
       "\n",
       "    .dataframe thead th {\n",
       "        text-align: right;\n",
       "    }\n",
       "</style>\n",
       "<table border=\"1\" class=\"dataframe\">\n",
       "  <thead>\n",
       "    <tr style=\"text-align: right;\">\n",
       "      <th></th>\n",
       "      <th>sepal_length</th>\n",
       "      <th>sepal_width</th>\n",
       "      <th>petal_length</th>\n",
       "      <th>petal_width</th>\n",
       "      <th>species</th>\n",
       "    </tr>\n",
       "  </thead>\n",
       "  <tbody>\n",
       "    <tr>\n",
       "      <th>0</th>\n",
       "      <td>5.1</td>\n",
       "      <td>3.5</td>\n",
       "      <td>1.4</td>\n",
       "      <td>0.2</td>\n",
       "      <td>setosa</td>\n",
       "    </tr>\n",
       "    <tr>\n",
       "      <th>1</th>\n",
       "      <td>4.9</td>\n",
       "      <td>3.0</td>\n",
       "      <td>1.4</td>\n",
       "      <td>0.2</td>\n",
       "      <td>setosa</td>\n",
       "    </tr>\n",
       "    <tr>\n",
       "      <th>2</th>\n",
       "      <td>4.7</td>\n",
       "      <td>3.2</td>\n",
       "      <td>1.3</td>\n",
       "      <td>0.2</td>\n",
       "      <td>setosa</td>\n",
       "    </tr>\n",
       "    <tr>\n",
       "      <th>3</th>\n",
       "      <td>4.6</td>\n",
       "      <td>3.1</td>\n",
       "      <td>1.5</td>\n",
       "      <td>0.2</td>\n",
       "      <td>setosa</td>\n",
       "    </tr>\n",
       "    <tr>\n",
       "      <th>4</th>\n",
       "      <td>5.0</td>\n",
       "      <td>3.6</td>\n",
       "      <td>1.4</td>\n",
       "      <td>0.2</td>\n",
       "      <td>setosa</td>\n",
       "    </tr>\n",
       "    <tr>\n",
       "      <th>5</th>\n",
       "      <td>7.0</td>\n",
       "      <td>3.2</td>\n",
       "      <td>4.7</td>\n",
       "      <td>1.4</td>\n",
       "      <td>versicolor</td>\n",
       "    </tr>\n",
       "    <tr>\n",
       "      <th>6</th>\n",
       "      <td>6.4</td>\n",
       "      <td>3.2</td>\n",
       "      <td>4.5</td>\n",
       "      <td>1.5</td>\n",
       "      <td>versicolor</td>\n",
       "    </tr>\n",
       "    <tr>\n",
       "      <th>7</th>\n",
       "      <td>6.9</td>\n",
       "      <td>3.1</td>\n",
       "      <td>4.9</td>\n",
       "      <td>1.5</td>\n",
       "      <td>versicolor</td>\n",
       "    </tr>\n",
       "    <tr>\n",
       "      <th>8</th>\n",
       "      <td>5.5</td>\n",
       "      <td>2.3</td>\n",
       "      <td>4.0</td>\n",
       "      <td>1.3</td>\n",
       "      <td>versicolor</td>\n",
       "    </tr>\n",
       "    <tr>\n",
       "      <th>9</th>\n",
       "      <td>6.5</td>\n",
       "      <td>2.8</td>\n",
       "      <td>4.6</td>\n",
       "      <td>1.5</td>\n",
       "      <td>versicolor</td>\n",
       "    </tr>\n",
       "  </tbody>\n",
       "</table>\n",
       "</div>"
      ],
      "text/plain": [
       "   sepal_length  sepal_width  petal_length  petal_width     species\n",
       "0           5.1          3.5           1.4          0.2      setosa\n",
       "1           4.9          3.0           1.4          0.2      setosa\n",
       "2           4.7          3.2           1.3          0.2      setosa\n",
       "3           4.6          3.1           1.5          0.2      setosa\n",
       "4           5.0          3.6           1.4          0.2      setosa\n",
       "5           7.0          3.2           4.7          1.4  versicolor\n",
       "6           6.4          3.2           4.5          1.5  versicolor\n",
       "7           6.9          3.1           4.9          1.5  versicolor\n",
       "8           5.5          2.3           4.0          1.3  versicolor\n",
       "9           6.5          2.8           4.6          1.5  versicolor"
      ]
     },
     "execution_count": 498,
     "metadata": {},
     "output_type": "execute_result"
    }
   ],
   "source": [
    "data"
   ]
  },
  {
   "cell_type": "code",
   "execution_count": 499,
   "id": "f3719bd8",
   "metadata": {},
   "outputs": [],
   "source": [
    "#seperating data and target\n",
    "X=data.iloc[:,0:4]\n",
    "Y=data.iloc[:,4]"
   ]
  },
  {
   "cell_type": "code",
   "execution_count": 500,
   "id": "6ef7fdb6",
   "metadata": {},
   "outputs": [],
   "source": [
    "#Calculate the euclidean distance between two points\n",
    "def euclidean_distance(a,b):   \n",
    "    point_a = np.array(a)\n",
    "    point_b = np.array(b)\n",
    "    distance = np.linalg.norm(point_a - point_b)\n",
    "    \n",
    "    return distance   "
   ]
  },
  {
   "cell_type": "code",
   "execution_count": 501,
   "id": "ee7bbd62",
   "metadata": {},
   "outputs": [],
   "source": [
    "# print(X.iloc[0])\n",
    "# print(X.iloc[1])"
   ]
  },
  {
   "cell_type": "code",
   "execution_count": 502,
   "id": "988c1e2b",
   "metadata": {},
   "outputs": [],
   "source": [
    "#splitting train and test set\n",
    "def tt_split(X, y, test_size=0.25):\n",
    "\n",
    "    i = int((1 - test_size) * X.shape[0]) \n",
    "    o = np.random.permutation(X.shape[0])\n",
    "    \n",
    "    X_train, X_test = np.split(np.take(X,o,axis=0), [i])\n",
    "    y_train, y_test = np.split(np.take(y,o), [i])\n",
    "    \n",
    "    return X_train, X_test, y_train, y_test"
   ]
  },
  {
   "cell_type": "code",
   "execution_count": 503,
   "id": "eb929472",
   "metadata": {},
   "outputs": [],
   "source": [
    "X_train, X_test, y_train, y_test=tt_split(X,Y)"
   ]
  },
  {
   "cell_type": "code",
   "execution_count": 504,
   "id": "4a75f24f",
   "metadata": {},
   "outputs": [],
   "source": [
    "# print(X_train)\n",
    "# print(X_test)\n",
    "# print(y_train)\n",
    "# print(y_test)"
   ]
  },
  {
   "cell_type": "code",
   "execution_count": 505,
   "id": "6043ac21",
   "metadata": {},
   "outputs": [],
   "source": [
    "#scaling the data based on train data set\n",
    "#calculate column means\n",
    "def column_means(dataset):\n",
    "    means = [0 for i in range(len(dataset.columns))]\n",
    "    for i in range(len(dataset.columns)):\n",
    "        col_values =dataset.iloc[:,i]\n",
    "        means[i] = sum(col_values) / float(len(dataset.iloc[:,i]))\n",
    "    return means\n",
    "\n",
    "# calculate column standard deviations\n",
    "def column_stdevs(dataset, means):\n",
    "    stdevs = [0 for i in range(len(dataset.columns))]\n",
    "    for i in range(len(dataset.columns)):\n",
    "        col_values =dataset.iloc[:,i]\n",
    "        variance = [(row-means[i])**2 for row in col_values]\n",
    "        stdevs[i] = sum(variance)\n",
    "    \n",
    "    stdevs = [(x/(float(len(dataset.iloc[:,i])-1)))**0.5 for x in stdevs]\n",
    "    return stdevs\n",
    "\n",
    "# standardize dataset\n",
    "def standardize_dataset(dataset, means, stdevs):\n",
    "    for row in range(len(dataset)):\n",
    "        for i in range(len(dataset.iloc[row,:])):\n",
    "            dataset.iloc[row,i] = (dataset.iloc[row,i] - means[i]) / stdevs[i]"
   ]
  },
  {
   "cell_type": "code",
   "execution_count": 506,
   "id": "15815064",
   "metadata": {},
   "outputs": [],
   "source": [
    "# Standardize dataset\n",
    "dataset = X_train\n",
    "\n",
    "# Estimate mean and standard deviation\n",
    "means = column_means(dataset)\n",
    "stdevs = column_stdevs(dataset, means)\n",
    "\n",
    "standardize_dataset(dataset, means,stdevs)\n"
   ]
  },
  {
   "cell_type": "code",
   "execution_count": 507,
   "id": "c9b50a72",
   "metadata": {},
   "outputs": [],
   "source": [
    "# Standardize test dataset based on train dataset \n",
    "standardize_dataset(X_test, means,stdevs)"
   ]
  },
  {
   "cell_type": "code",
   "execution_count": 508,
   "id": "cee01f0c",
   "metadata": {},
   "outputs": [],
   "source": [
    "def knn_predict(X_train,X_test,y_train,y_test,k):\n",
    "    from collections import Counter\n",
    "    \n",
    "    y_hat_test=[]\n",
    "    \n",
    "    for test_point in list(X_test.index):\n",
    "        distances=[]\n",
    "        \n",
    "        for train_point in list(X_train.index):\n",
    "            distance=euclidean_distance(X_test.loc[test_point],X_train.loc[train_point])\n",
    "            distances.append(distance)\n",
    "        \n",
    "        #converting distances in dataframe\n",
    "        df_dists =pd.DataFrame(data=distances,index=y_train.index,columns=['dist'])\n",
    "        \n",
    "        #sorting distances\n",
    "        df_nn=df_dists.sort_values(by=['dist'],axis=0)[:k]\n",
    "        \n",
    "        #counter object to track the labels of k most near neighbours\n",
    "        counter=Counter(y_train[df_nn.index])\n",
    "        \n",
    "        #select the most commong label\n",
    "        prediction = counter.most_common()[0][0]\n",
    "        \n",
    "        y_hat_test.append(prediction)\n",
    "        \n",
    "    return y_hat_test"
   ]
  },
  {
   "cell_type": "code",
   "execution_count": 509,
   "id": "29d7a2da",
   "metadata": {},
   "outputs": [],
   "source": [
    "y_hat_test=knn_predict(X_train, X_test, y_train, y_test,k=3)"
   ]
  },
  {
   "cell_type": "code",
   "execution_count": 513,
   "id": "48fca426",
   "metadata": {},
   "outputs": [
    {
     "name": "stdout",
     "output_type": "stream",
     "text": [
      "Actual : \n",
      "['versicolor', 'versicolor', 'setosa']\n",
      "Predicted : \n",
      "['versicolor', 'versicolor', 'setosa']\n"
     ]
    }
   ],
   "source": [
    "print(\"Actual : \")\n",
    "print(list(y_test))\n",
    "print(\"Predicted : \")\n",
    "print(y_hat_test)"
   ]
  },
  {
   "cell_type": "code",
   "execution_count": 514,
   "id": "d917a7be",
   "metadata": {},
   "outputs": [],
   "source": [
    "#for some unknown observations checking with different k value\n",
    "X_test1=pd.DataFrame( {'sepal_length': [8.2],\n",
    "                       'sepal_width': [2.6],\n",
    "                       'petal_length': [3.2],\n",
    "                       'petal_width': [1.8]\n",
    "                      } )\n",
    "y_test1=pd.DataFrame([\"\"])"
   ]
  },
  {
   "cell_type": "code",
   "execution_count": 515,
   "id": "28fd3401",
   "metadata": {},
   "outputs": [],
   "source": [
    "standardize_dataset(X_test1, means,stdevs)"
   ]
  },
  {
   "cell_type": "code",
   "execution_count": 516,
   "id": "98c9e6ac",
   "metadata": {},
   "outputs": [
    {
     "data": {
      "text/plain": [
       "['versicolor']"
      ]
     },
     "execution_count": 516,
     "metadata": {},
     "output_type": "execute_result"
    }
   ],
   "source": [
    "y_hat_test_3=knn_predict(X_train.append(X_test), X_test1, y_train.append(y_test),y_test1 ,k=3)\n",
    "y_hat_test_3"
   ]
  },
  {
   "cell_type": "code",
   "execution_count": 517,
   "id": "4a268701",
   "metadata": {},
   "outputs": [
    {
     "data": {
      "text/plain": [
       "['versicolor']"
      ]
     },
     "execution_count": 517,
     "metadata": {},
     "output_type": "execute_result"
    }
   ],
   "source": [
    "y_hat_test_5=knn_predict(X_train.append(X_test), X_test1, y_train.append(y_test),y_test1 ,k=5)\n",
    "y_hat_test_5"
   ]
  },
  {
   "cell_type": "code",
   "execution_count": 518,
   "id": "1bbeed8d",
   "metadata": {},
   "outputs": [
    {
     "data": {
      "text/plain": [
       "['versicolor']"
      ]
     },
     "execution_count": 518,
     "metadata": {},
     "output_type": "execute_result"
    }
   ],
   "source": [
    "y_hat_test_7=knn_predict(X_train.append(X_test), X_test1, y_train.append(y_test),y_test1 ,k=7)\n",
    "y_hat_test_7"
   ]
  },
  {
   "cell_type": "code",
   "execution_count": null,
   "id": "6481453d",
   "metadata": {},
   "outputs": [],
   "source": []
  }
 ],
 "metadata": {
  "kernelspec": {
   "display_name": "Python 3",
   "language": "python",
   "name": "python3"
  },
  "language_info": {
   "codemirror_mode": {
    "name": "ipython",
    "version": 3
   },
   "file_extension": ".py",
   "mimetype": "text/x-python",
   "name": "python",
   "nbconvert_exporter": "python",
   "pygments_lexer": "ipython3",
   "version": "3.8.8"
  }
 },
 "nbformat": 4,
 "nbformat_minor": 5
}
